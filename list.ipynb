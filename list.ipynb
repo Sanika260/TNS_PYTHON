{
 "cells": [
  {
   "cell_type": "code",
   "execution_count": 1,
   "id": "7d0cc7f6",
   "metadata": {},
   "outputs": [
    {
     "name": "stdout",
     "output_type": "stream",
     "text": [
      "List: [10, 20, 30, 40, 20]\n"
     ]
    }
   ],
   "source": [
    "\n",
    "# Creating a list\n",
    "my_list = [10, 20, 30, 40, 20]\n",
    "print(\"List:\", my_list)"
   ]
  },
  {
   "cell_type": "code",
   "execution_count": 2,
   "id": "1aee1545",
   "metadata": {},
   "outputs": [
    {
     "name": "stdout",
     "output_type": "stream",
     "text": [
      "After append: [10, 20, 30, 40]\n"
     ]
    }
   ],
   "source": [
    "# append() → Adds a single element to the end of the list\n",
    "numbers = [10, 20, 30]\n",
    "numbers.append(40)\n",
    "print(\"After append:\", numbers)  # [10, 20, 30, 40]"
   ]
  },
  {
   "cell_type": "code",
   "execution_count": 3,
   "id": "503ab673",
   "metadata": {},
   "outputs": [
    {
     "name": "stdout",
     "output_type": "stream",
     "text": [
      "After extend: [1, 2, 3, 4, 5, 6]\n"
     ]
    }
   ],
   "source": [
    "\n",
    "# extend() → Adds all elements from another iterable (like another list)\n",
    "numbers = [1, 2, 3]\n",
    "numbers.extend([4, 5, 6])\n",
    "print(\"After extend:\", numbers)  # [1, 2, 3, 4, 5, 6]"
   ]
  },
  {
   "cell_type": "code",
   "execution_count": 4,
   "id": "e73c53f5",
   "metadata": {},
   "outputs": [
    {
     "name": "stdout",
     "output_type": "stream",
     "text": [
      "After insert: [1, 2, 3, 4]\n"
     ]
    }
   ],
   "source": [
    "\n",
    "# insert() → Inserts an element at a specified index\n",
    "numbers = [1, 3, 4]\n",
    "numbers.insert(1, 2)  # Insert 2 at index 1\n",
    "print(\"After insert:\", numbers)  # [1, 2, 3, 4]"
   ]
  },
  {
   "cell_type": "code",
   "execution_count": 5,
   "id": "f76f3dbd",
   "metadata": {},
   "outputs": [
    {
     "name": "stdout",
     "output_type": "stream",
     "text": [
      "After remove: [1, 3, 2]\n"
     ]
    }
   ],
   "source": [
    "# remove() → Removes the first occurrence of a specified value\n",
    "numbers = [1, 2, 3, 2]\n",
    "numbers.remove(2)  # Removes the first 2\n",
    "print(\"After remove:\", numbers)  # [1, 3, 2]"
   ]
  },
  {
   "cell_type": "code",
   "execution_count": 6,
   "id": "389f4639",
   "metadata": {},
   "outputs": [
    {
     "name": "stdout",
     "output_type": "stream",
     "text": [
      "Popped value: 30\n",
      "After pop: [10, 20]\n"
     ]
    }
   ],
   "source": [
    "\n",
    "# pop() → Removes and returns element at given index (default is last)\n",
    "numbers = [10, 20, 30]\n",
    "popped_value = numbers.pop()  # Removes 30\n",
    "print(\"Popped value:\", popped_value)\n",
    "print(\"After pop:\", numbers)  # [10, 20]"
   ]
  },
  {
   "cell_type": "code",
   "execution_count": 7,
   "id": "2da202ad",
   "metadata": {},
   "outputs": [
    {
     "name": "stdout",
     "output_type": "stream",
     "text": [
      "After clear: []\n"
     ]
    }
   ],
   "source": [
    "# clear() → Removes all elements from the list\n",
    "numbers = [10, 20, 30]\n",
    "numbers.clear()\n",
    "print(\"After clear:\", numbers)  # []"
   ]
  },
  {
   "cell_type": "code",
   "execution_count": 8,
   "id": "82d02a52",
   "metadata": {},
   "outputs": [
    {
     "name": "stdout",
     "output_type": "stream",
     "text": [
      "Index of 30: 2\n"
     ]
    }
   ],
   "source": [
    "\n",
    "# index() → Returns the index of the first occurrence of a specified value\n",
    "numbers = [10, 20, 30, 40]\n",
    "index_pos = numbers.index(30)\n",
    "print(\"Index of 30:\", index_pos)  # 2"
   ]
  },
  {
   "cell_type": "code",
   "execution_count": 9,
   "id": "ca982c73",
   "metadata": {},
   "outputs": [
    {
     "name": "stdout",
     "output_type": "stream",
     "text": [
      "Count of 2: 3\n"
     ]
    }
   ],
   "source": [
    "# count() → Counts the number of times a value occurs in the list\n",
    "numbers = [1, 2, 3, 2, 4, 2]\n",
    "count_twos = numbers.count(2)\n",
    "print(\"Count of 2:\", count_twos)  # 3"
   ]
  },
  {
   "cell_type": "code",
   "execution_count": 10,
   "id": "d52d36f6",
   "metadata": {},
   "outputs": [
    {
     "name": "stdout",
     "output_type": "stream",
     "text": [
      "After reverse: [4, 3, 2, 1]\n"
     ]
    }
   ],
   "source": [
    "\n",
    "# reverse() → Reverses the list in-place\n",
    "numbers = [1, 2, 3, 4]\n",
    "numbers.reverse()\n",
    "print(\"After reverse:\", numbers)  # [4, 3, 2, 1]"
   ]
  },
  {
   "cell_type": "code",
   "execution_count": 11,
   "id": "d01a0193",
   "metadata": {},
   "outputs": [
    {
     "name": "stdout",
     "output_type": "stream",
     "text": [
      "After sort: [1, 2, 3, 4]\n"
     ]
    }
   ],
   "source": [
    "\n",
    "# sort() → Sorts the list in ascending order\n",
    "numbers = [3, 1, 4, 2]\n",
    "numbers.sort()\n",
    "print(\"After sort:\", numbers)  # [1, 2, 3, 4]"
   ]
  },
  {
   "cell_type": "code",
   "execution_count": 12,
   "id": "61b8d580",
   "metadata": {},
   "outputs": [
    {
     "name": "stdout",
     "output_type": "stream",
     "text": [
      "Copied list: [1, 2, 3]\n"
     ]
    }
   ],
   "source": [
    "# copy() → Returns a shallow copy of the list\n",
    "numbers = [1, 2, 3]\n",
    "copy_numbers = numbers.copy()\n",
    "print(\"Copied list:\", copy_numbers)  # [1, 2, 3]"
   ]
  },
  {
   "cell_type": "code",
   "execution_count": 13,
   "id": "62e1b28e",
   "metadata": {},
   "outputs": [
    {
     "name": "stdout",
     "output_type": "stream",
     "text": [
      "Length of list: 4\n"
     ]
    }
   ],
   "source": [
    "# len() → Returns the number of elements in the list\n",
    "numbers = [1, 2, 3, 4]\n",
    "print(\"Length of list:\", len(numbers))  # 4"
   ]
  },
  {
   "cell_type": "code",
   "execution_count": 14,
   "id": "7c51abe4",
   "metadata": {},
   "outputs": [
    {
     "name": "stdout",
     "output_type": "stream",
     "text": [
      "Sum of list: 10\n"
     ]
    }
   ],
   "source": [
    "# sum() → Returns the sum of all numeric elements in the list\n",
    "numbers = [1, 2, 3, 4]\n",
    "total = sum(numbers)\n",
    "print(\"Sum of list:\", total)  # 10"
   ]
  },
  {
   "cell_type": "code",
   "execution_count": 15,
   "id": "d842560d",
   "metadata": {},
   "outputs": [
    {
     "name": "stdout",
     "output_type": "stream",
     "text": [
      "Max value: 10\n",
      "Min value: 2\n"
     ]
    }
   ],
   "source": [
    "\n",
    "# max() → Returns the largest element in the list\n",
    "# min() → Returns the smallest element in the list\n",
    "numbers = [5, 8, 2, 10, 3]\n",
    "print(\"Max value:\", max(numbers))  # 10\n",
    "print(\"Min value:\", min(numbers))  # 2"
   ]
  },
  {
   "cell_type": "code",
   "execution_count": 16,
   "id": "bf3a7d31",
   "metadata": {},
   "outputs": [
    {
     "name": "stdout",
     "output_type": "stream",
     "text": [
      "Updated list after append: [10, 20, 30, 40, 100]\n"
     ]
    }
   ],
   "source": [
    "# Given list\n",
    "numbers = [10, 20, 30, 40]\n",
    "\n",
    "# Append 100 to the list\n",
    "numbers.append(100)\n",
    "\n",
    "# Print the updated list\n",
    "print(\"Updated list after append:\", numbers)"
   ]
  },
  {
   "cell_type": "code",
   "execution_count": 17,
   "id": "fe4570a1",
   "metadata": {},
   "outputs": [
    {
     "name": "stdout",
     "output_type": "stream",
     "text": [
      "Updated list after insert: [10, 20, 50, 30, 40]\n"
     ]
    }
   ],
   "source": [
    "\n",
    "# Given list\n",
    "numbers = [10, 20, 30, 40]\n",
    "\n",
    "# Insert 50 at index 2 (3rd position)\n",
    "numbers.insert(2, 50)\n",
    "\n",
    "# Print the updated list\n",
    "print(\"Updated list after insert:\", numbers)"
   ]
  },
  {
   "cell_type": "code",
   "execution_count": 18,
   "id": "24266bab",
   "metadata": {},
   "outputs": [
    {
     "name": "stdout",
     "output_type": "stream",
     "text": [
      "Updated list after removing 20: [10, 30, 40, 20]\n"
     ]
    }
   ],
   "source": [
    "\n",
    "# Given list\n",
    "numbers = [10, 20, 30, 40, 20]\n",
    "\n",
    "# Remove the first occurrence of 20\n",
    "numbers.remove(20)\n",
    "\n",
    "# Print the updated list\n",
    "print(\"Updated list after removing 20:\", numbers)"
   ]
  },
  {
   "cell_type": "code",
   "execution_count": 19,
   "id": "31951678",
   "metadata": {},
   "outputs": [
    {
     "name": "stdout",
     "output_type": "stream",
     "text": [
      "Number of times 10 appears: 3\n"
     ]
    }
   ],
   "source": [
    "\n",
    "# Given list\n",
    "numbers = [10, 20, 30, 10, 40, 10]\n",
    "\n",
    "# Count how many times 10 appears\n",
    "count_of_10 = numbers.count(10)\n",
    "\n",
    "# Print the count\n",
    "print(\"Number of times 10 appears:\", count_of_10)"
   ]
  },
  {
   "cell_type": "code",
   "execution_count": 20,
   "id": "b1586f8f",
   "metadata": {},
   "outputs": [
    {
     "name": "stdout",
     "output_type": "stream",
     "text": [
      "List after reverse: [50, 40, 30, 20, 10]\n"
     ]
    }
   ],
   "source": [
    "\n",
    "# Given list\n",
    "numbers = [10, 20, 30, 40, 50]\n",
    "\n",
    "# Reverse the list\n",
    "numbers.reverse()\n",
    "\n",
    "# Print the reversed list\n",
    "print(\"List after reverse:\", numbers)"
   ]
  },
  {
   "cell_type": "code",
   "execution_count": 21,
   "id": "ddf3bee0",
   "metadata": {},
   "outputs": [
    {
     "name": "stdout",
     "output_type": "stream",
     "text": [
      "List after sort: [10, 20, 30, 40, 50]\n"
     ]
    }
   ],
   "source": [
    "\n",
    "# Given list\n",
    "numbers = [50, 20, 40, 10, 30]\n",
    "\n",
    "# Sort the list in ascending order\n",
    "numbers.sort()\n",
    "\n",
    "# Print the sorted list\n",
    "print(\"List after sort:\", numbers)"
   ]
  },
  {
   "cell_type": "code",
   "execution_count": 22,
   "id": "60f4c365",
   "metadata": {},
   "outputs": [
    {
     "name": "stdout",
     "output_type": "stream",
     "text": [
      "Maximum value: 50\n",
      "Minimum value: 10\n"
     ]
    }
   ],
   "source": [
    "\n",
    "# Given list\n",
    "numbers = [50, 20, 40, 10, 30]\n",
    "\n",
    "# Find maximum and minimum values\n",
    "maximum_value = max(numbers)\n",
    "minimum_value = min(numbers)\n",
    "\n",
    "# Print the values\n",
    "print(\"Maximum value:\", maximum_value)\n",
    "print(\"Minimum value:\", minimum_value)"
   ]
  },
  {
   "cell_type": "code",
   "execution_count": 23,
   "id": "bc52b860",
   "metadata": {},
   "outputs": [
    {
     "name": "stdout",
     "output_type": "stream",
     "text": [
      "Sum of list: 150\n"
     ]
    }
   ],
   "source": [
    "# Given list\n",
    "numbers = [50, 20, 40, 10, 30]\n",
    "\n",
    "# Calculate the sum of all elements\n",
    "total_sum = sum(numbers)\n",
    "\n",
    "# Print the sum\n",
    "print(\"Sum of list:\", total_sum)"
   ]
  }
 ],
 "metadata": {
  "kernelspec": {
   "display_name": "Python 3",
   "language": "python",
   "name": "python3"
  },
  "language_info": {
   "codemirror_mode": {
    "name": "ipython",
    "version": 3
   },
   "file_extension": ".py",
   "mimetype": "text/x-python",
   "name": "python",
   "nbconvert_exporter": "python",
   "pygments_lexer": "ipython3",
   "version": "3.12.1"
  }
 },
 "nbformat": 4,
 "nbformat_minor": 5
}
