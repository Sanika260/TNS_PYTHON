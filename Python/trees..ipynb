{
 "cells": [
  {
   "cell_type": "code",
   "execution_count": 1,
   "id": "d1490ce5",
   "metadata": {},
   "outputs": [
    {
     "name": "stdout",
     "output_type": "stream",
     "text": [
      "40 20 10 30 "
     ]
    }
   ],
   "source": [
    "class Node:\n",
    "    def __init__(self, data):\n",
    "        self.data = data\n",
    "        self.left = None\n",
    "        self.right = None\n",
    "\n",
    "def inorder(root):\n",
    "    if root:\n",
    "        inorder(root.left)\n",
    "        print(root.data, end=\" \")\n",
    "        inorder(root.right)\n",
    "\n",
    "root = Node(10)\n",
    "root.left = Node(20)\n",
    "root.right = Node(30)\n",
    "root.left.left = Node(40)\n",
    "\n",
    "inorder(root)"
   ]
  },
  {
   "cell_type": "code",
   "execution_count": 2,
   "id": "7aa44178",
   "metadata": {},
   "outputs": [
    {
     "name": "stdout",
     "output_type": "stream",
     "text": [
      "20 30 40 50 60 70 80 "
     ]
    }
   ],
   "source": [
    "class BSTNode:\n",
    "    def __init__(self, data):\n",
    "        self.data = data\n",
    "        self.left = None\n",
    "        self.right = None\n",
    "\n",
    "def insert(root, key):\n",
    "    if root is None:\n",
    "        return BSTNode(key)\n",
    "    if key < root.data:\n",
    "        root.left = insert(root.left, key)\n",
    "    else:\n",
    "        root.right = insert(root.right, key)\n",
    "    return root\n",
    "\n",
    "def inorder(root):\n",
    "    if root:\n",
    "        inorder(root.left)\n",
    "        print(root.data, end=\" \")\n",
    "        inorder(root.right)\n",
    "\n",
    "root = None\n",
    "for val in [50, 30, 70, 20, 40, 60, 80]:\n",
    "    root = insert(root, val)\n",
    "\n",
    "inorder(root)"
   ]
  },
  {
   "cell_type": "code",
   "execution_count": 3,
   "id": "c00bcd80",
   "metadata": {},
   "outputs": [
    {
     "name": "stdout",
     "output_type": "stream",
     "text": [
      "10 20 25 30 40 50 "
     ]
    }
   ],
   "source": [
    "class AVLNode:\n",
    "    def __init__(self, key):\n",
    "        self.data = key\n",
    "        self.left = None\n",
    "        self.right = None\n",
    "        self.height = 1\n",
    "\n",
    "def get_height(node):\n",
    "    if not node:\n",
    "        return 0\n",
    "    return node.height\n",
    "\n",
    "def get_balance(node):\n",
    "    if not node:\n",
    "        return 0\n",
    "    return get_height(node.left) - get_height(node.right)\n",
    "\n",
    "def right_rotate(z):\n",
    "    y = z.left\n",
    "    T3 = y.right\n",
    "    y.right = z\n",
    "    z.left = T3\n",
    "    z.height = 1 + max(get_height(z.left), get_height(z.right))\n",
    "    y.height = 1 + max(get_height(y.left), get_height(y.right))\n",
    "    return y\n",
    "\n",
    "def left_rotate(z):\n",
    "    y = z.right\n",
    "    T2 = y.left\n",
    "    y.left = z\n",
    "    z.right = T2\n",
    "    z.height = 1 + max(get_height(z.left), get_height(z.right))\n",
    "    y.height = 1 + max(get_height(y.left), get_height(y.right))\n",
    "    return y\n",
    "\n",
    "def insert(root, key):\n",
    "    if not root:\n",
    "        return AVLNode(key)\n",
    "    elif key < root.data:\n",
    "        root.left = insert(root.left, key)\n",
    "    else:\n",
    "        root.right = insert(root.right, key)\n",
    "    root.height = 1 + max(get_height(root.left), get_height(root.right))\n",
    "    balance = get_balance(root)\n",
    "    if balance > 1 and key < root.left.data:\n",
    "        return right_rotate(root)\n",
    "    if balance < -1 and key > root.right.data:\n",
    "        return left_rotate(root)\n",
    "    if balance > 1 and key > root.left.data:\n",
    "        root.left = left_rotate(root.left)\n",
    "        return right_rotate(root)\n",
    "    if balance < -1 and key < root.right.data:\n",
    "        root.right = right_rotate(root.right)\n",
    "        return left_rotate(root)\n",
    "    return root\n",
    "\n",
    "def inorder(root):\n",
    "    if root:\n",
    "        inorder(root.left)\n",
    "        print(root.data, end=\" \")\n",
    "        inorder(root.right)\n",
    "\n",
    "root = None\n",
    "for val in [30, 20, 40, 10, 25, 50]:\n",
    "    root = insert(root, val)\n",
    "\n",
    "inorder(root)"
   ]
  },
  {
   "cell_type": "code",
   "execution_count": 4,
   "id": "f47ff7fc",
   "metadata": {},
   "outputs": [
    {
     "name": "stdout",
     "output_type": "stream",
     "text": [
      "Maximum Element: 30\n"
     ]
    }
   ],
   "source": [
    "\n",
    "class Node:\n",
    "    def __init__(self, data):\n",
    "        self.data = data\n",
    "        self.left = None\n",
    "        self.right = None\n",
    "\n",
    "def find_max(root):\n",
    "    if not root:\n",
    "        return float('-inf')\n",
    "    left_max = find_max(root.left)\n",
    "    right_max = find_max(root.right)\n",
    "    return max(root.data, left_max, right_max)\n",
    "\n",
    "root = Node(10)\n",
    "root.left = Node(20)\n",
    "root.right = Node(5)\n",
    "root.left.left = Node(30)\n",
    "\n",
    "print(\"Maximum Element:\", find_max(root))"
   ]
  },
  {
   "cell_type": "code",
   "execution_count": 5,
   "id": "01ae3fd8",
   "metadata": {},
   "outputs": [
    {
     "name": "stdout",
     "output_type": "stream",
     "text": [
      "Leaf Nodes Count: 3\n"
     ]
    }
   ],
   "source": [
    "\n",
    "def count_leaves(root):\n",
    "    if not root:\n",
    "        return 0\n",
    "    if not root.left and not root.right:\n",
    "        return 1\n",
    "    return count_leaves(root.left) + count_leaves(root.right)\n",
    "\n",
    "root = Node(10)\n",
    "root.left = Node(20)\n",
    "root.right = Node(30)\n",
    "root.left.left = Node(40)\n",
    "root.left.right = Node(50)\n",
    "\n",
    "print(\"Leaf Nodes Count:\", count_leaves(root))"
   ]
  },
  {
   "cell_type": "code",
   "execution_count": 6,
   "id": "ae06cbee",
   "metadata": {},
   "outputs": [
    {
     "name": "stdout",
     "output_type": "stream",
     "text": [
      "Root to Leaf Paths:\n",
      "1 -> 2 -> 4\n",
      "1 -> 2 -> 5\n",
      "1 -> 3\n"
     ]
    }
   ],
   "source": [
    "\n",
    "def print_paths(root, path=[]):\n",
    "    if not root:\n",
    "        return\n",
    "    path.append(root.data)\n",
    "    if not root.left and not root.right:\n",
    "        print(\" -> \".join(map(str, path)))\n",
    "    else:\n",
    "        print_paths(root.left, path)\n",
    "        print_paths(root.right, path)\n",
    "    path.pop()\n",
    "\n",
    "root = Node(1)\n",
    "root.left = Node(2)\n",
    "root.right = Node(3)\n",
    "root.left.left = Node(4)\n",
    "root.left.right = Node(5)\n",
    "\n",
    "print(\"Root to Leaf Paths:\")\n",
    "print_paths(root)"
   ]
  }
 ],
 "metadata": {
  "kernelspec": {
   "display_name": "base",
   "language": "python",
   "name": "python3"
  },
  "language_info": {
   "codemirror_mode": {
    "name": "ipython",
    "version": 3
   },
   "file_extension": ".py",
   "mimetype": "text/x-python",
   "name": "python",
   "nbconvert_exporter": "python",
   "pygments_lexer": "ipython3",
   "version": "3.12.7"
  }
 },
 "nbformat": 4,
 "nbformat_minor": 5
}
