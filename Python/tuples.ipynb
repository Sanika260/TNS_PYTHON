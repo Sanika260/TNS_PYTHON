{
 "cells": [
  {
   "cell_type": "code",
   "execution_count": 2,
   "id": "e735fbfe",
   "metadata": {},
   "outputs": [
    {
     "name": "stdout",
     "output_type": "stream",
     "text": [
      "Index of 20: 4\n"
     ]
    }
   ],
   "source": [
    "# Given tuple\n",
    "my_tuple = (10, 20, 30, 20, 40)\n",
    "\n",
    "# Find index of first occurrence of 20\n",
    "index_of_20 = my_tuple.index(40)\n",
    "\n",
    "# Print the index\n",
    "print(\"Index of 20:\", index_of_20)"
   ]
  },
  {
   "cell_type": "code",
   "execution_count": 3,
   "id": "1813aa90",
   "metadata": {},
   "outputs": [
    {
     "name": "stdout",
     "output_type": "stream",
     "text": [
      "Count of 10: 3\n"
     ]
    }
   ],
   "source": [
    "# Given tuple\n",
    "my_tuple = (10, 20, 10, 30, 10, 40)\n",
    "\n",
    "# Count how many times 10 appears\n",
    "count_10 = my_tuple.count(10)\n",
    "\n",
    "# Print the count\n",
    "print(\"Count of 10:\", count_10)"
   ]
  },
  {
   "cell_type": "code",
   "execution_count": 4,
   "id": "2bc95452",
   "metadata": {},
   "outputs": [
    {
     "name": "stdout",
     "output_type": "stream",
     "text": [
      "Length of tuple: 4\n"
     ]
    }
   ],
   "source": [
    "# Given tuple\n",
    "my_tuple = (10, 20, 30, 40)\n",
    "\n",
    "# Find the length\n",
    "length = len(my_tuple)\n",
    "\n",
    "# Print the length\n",
    "print(\"Length of tuple:\", length)"
   ]
  },
  {
   "cell_type": "code",
   "execution_count": 5,
   "id": "db8f3339",
   "metadata": {},
   "outputs": [
    {
     "name": "stdout",
     "output_type": "stream",
     "text": [
      "Max value: 40\n",
      "Min value: 10\n"
     ]
    }
   ],
   "source": [
    "my_tuple = (10, 20, 30, 40)\n",
    "\n",
    "# Find max and min values\n",
    "maximum_value = max(my_tuple)\n",
    "minimum_value = min(my_tuple)\n",
    "\n",
    "# Print values\n",
    "print(\"Max value:\", maximum_value)\n",
    "print(\"Min value:\", minimum_value)"
   ]
  },
  {
   "cell_type": "code",
   "execution_count": 6,
   "id": "f0f23c53",
   "metadata": {},
   "outputs": [
    {
     "name": "stdout",
     "output_type": "stream",
     "text": [
      "Sum of tuple: 100\n"
     ]
    }
   ],
   "source": [
    "# Given tuple\n",
    "my_tuple = (10, 20, 30, 40)\n",
    "\n",
    "# Calculate sum\n",
    "total = sum(my_tuple)\n",
    "\n",
    "# Print the sum\n",
    "print(\"Sum of tuple:\", total)"
   ]
  },
  {
   "cell_type": "code",
   "execution_count": 7,
   "id": "4731c863",
   "metadata": {},
   "outputs": [
    {
     "name": "stdout",
     "output_type": "stream",
     "text": [
      "Converted tuple: [10, 20, 30, 40]\n"
     ]
    }
   ],
   "source": [
    "# Given list\n",
    "my_list = [10, 20, 30, 40]\n",
    "\n",
    "# Convert to tuple\n",
    "my_tuple = (my_list)\n",
    "\n",
    "# Print the tuple\n",
    "print(\"Converted tuple:\", my_tuple)"
   ]
  },
  {
   "cell_type": "code",
   "execution_count": 8,
   "id": "4f240d38",
   "metadata": {},
   "outputs": [
    {
     "name": "stdout",
     "output_type": "stream",
     "text": [
      "[1, 3, 5]\n"
     ]
    }
   ],
   "source": [
    "my_tuple = (10, 20, 30, 20, 40, 20)\n",
    "target = 20\n",
    "\n",
    "indexes = []\n",
    "for i in range(len(my_tuple)):\n",
    "    if my_tuple[i] == target:\n",
    "        indexes.append(i)\n",
    "\n",
    "print(indexes)"
   ]
  },
  {
   "cell_type": "code",
   "execution_count": 9,
   "id": "08c49729",
   "metadata": {},
   "outputs": [
    {
     "name": "stdout",
     "output_type": "stream",
     "text": [
      "(1, 2, 3, 4, 5, 6)\n"
     ]
    }
   ],
   "source": [
    "\n",
    "nested_tuple = ((1, 2), (3, 4), (5, 6))\n",
    "flat_list = []\n",
    "\n",
    "for t in nested_tuple:\n",
    "    for num in t:\n",
    "        flat_list.append(num)\n",
    "\n",
    "flat_tuple = tuple(flat_list)\n",
    "print(flat_tuple)"
   ]
  },
  {
   "cell_type": "code",
   "execution_count": 10,
   "id": "553242a0",
   "metadata": {},
   "outputs": [
    {
     "name": "stdout",
     "output_type": "stream",
     "text": [
      "(40, 20, 30, 10)\n"
     ]
    }
   ],
   "source": [
    "\n",
    "my_tuple = (10, 20, 30, 40)\n",
    "temp = list(my_tuple)\n",
    "\n",
    "temp[0], temp[-1] = temp[-1], temp[0]\n",
    "\n",
    "new_tuple = tuple(temp)\n",
    "print(new_tuple)"
   ]
  },
  {
   "cell_type": "code",
   "execution_count": 11,
   "id": "07783958",
   "metadata": {},
   "outputs": [
    {
     "name": "stdout",
     "output_type": "stream",
     "text": [
      "40\n"
     ]
    }
   ],
   "source": [
    "my_tuple = (10, 40, 30, 20, 50)\n",
    "my_list = list(my_tuple)\n",
    "\n",
    "my_list.sort()\n",
    "second_largest = my_list[-2]\n",
    "\n",
    "print(second_largest)"
   ]
  },
  {
   "cell_type": "code",
   "execution_count": 12,
   "id": "675038a4",
   "metadata": {},
   "outputs": [
    {
     "name": "stdout",
     "output_type": "stream",
     "text": [
      "True\n"
     ]
    }
   ],
   "source": [
    "tuple1 = (10, 20, 30)\n",
    "tuple2 = (10, 20, 30)\n",
    "\n",
    "print(tuple1 == tuple2)"
   ]
  }
 ],
 "metadata": {
  "kernelspec": {
   "display_name": "Python 3",
   "language": "python",
   "name": "python3"
  },
  "language_info": {
   "codemirror_mode": {
    "name": "ipython",
    "version": 3
   },
   "file_extension": ".py",
   "mimetype": "text/x-python",
   "name": "python",
   "nbconvert_exporter": "python",
   "pygments_lexer": "ipython3",
   "version": "3.12.1"
  }
 },
 "nbformat": 4,
 "nbformat_minor": 5
}
