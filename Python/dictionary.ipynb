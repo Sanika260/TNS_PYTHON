{
 "cells": [
  {
   "cell_type": "code",
   "execution_count": 1,
   "id": "3fe85fea",
   "metadata": {},
   "outputs": [
    {
     "name": "stdout",
     "output_type": "stream",
     "text": [
      "Dictionary: {'name': 'Alex', 'age': 21, 'branch': 'Machine Learning'}\n"
     ]
    }
   ],
   "source": [
    "\n",
    "# Declaring a dictionary\n",
    "student = {\n",
    "    \"name\": \"Alex\",\n",
    "    \"age\": 21,\n",
    "    \"branch\": \"Machine Learning\"\n",
    "}\n",
    "print(\"Dictionary:\", student)"
   ]
  },
  {
   "cell_type": "code",
   "execution_count": 2,
   "id": "32057ada",
   "metadata": {},
   "outputs": [
    {
     "name": "stdout",
     "output_type": "stream",
     "text": [
      "Alex\n",
      "None\n"
     ]
    }
   ],
   "source": [
    "person = {\"name\": \"Alex\", \"age\": 25, \"city\": \"Mumbai\"}\n",
    "\n",
    "# Fetch existing key\n",
    "print(person.get(\"name\"))        # Output: Alex\n",
    "\n",
    "# Fetch non-existing key\n",
    "print(person.get(\"country\"))     # Output: None"
   ]
  },
  {
   "cell_type": "code",
   "execution_count": 3,
   "id": "759b2cf5",
   "metadata": {},
   "outputs": [
    {
     "name": "stdout",
     "output_type": "stream",
     "text": [
      "dict_keys(['name', 'age', 'city'])\n"
     ]
    }
   ],
   "source": [
    "\n",
    "person = {\"name\": \"Alex\", \"age\": 25, \"city\": \"Mumbai\"}\n",
    "\n",
    "# Get all keys\n",
    "print(person.keys())"
   ]
  },
  {
   "cell_type": "code",
   "execution_count": 4,
   "id": "5b0a2df8",
   "metadata": {},
   "outputs": [
    {
     "name": "stdout",
     "output_type": "stream",
     "text": [
      "dict_values(['Alex', 25, 'Mumbai'])\n"
     ]
    }
   ],
   "source": [
    "person = {\"name\": \"Alex\", \"age\": 25, \"city\": \"Mumbai\"}\n",
    "\n",
    "# Get all values\n",
    "print(person.values())"
   ]
  },
  {
   "cell_type": "code",
   "execution_count": 5,
   "id": "cf9b4958",
   "metadata": {},
   "outputs": [
    {
     "name": "stdout",
     "output_type": "stream",
     "text": [
      "dict_items([('name', 'Alex'), ('age', 25), ('city', 'Mumbai')])\n"
     ]
    }
   ],
   "source": [
    "\n",
    "person = {\"name\": \"Alex\", \"age\": 25, \"city\": \"Mumbai\"}\n",
    "\n",
    "# Get all key-value pairs\n",
    "print(person.items())"
   ]
  },
  {
   "cell_type": "code",
   "execution_count": 6,
   "id": "e086b82c",
   "metadata": {},
   "outputs": [
    {
     "name": "stdout",
     "output_type": "stream",
     "text": [
      "{'name': 'Alex', 'age': 26, 'city': 'Mumbai', 'country': 'India'}\n"
     ]
    }
   ],
   "source": [
    "person = {\"name\": \"Alex\", \"age\": 25, \"city\": \"Mumbai\"}\n",
    "\n",
    "# Update dictionary with new data\n",
    "person.update({\"age\": 26, \"country\": \"India\"})\n",
    "print(person)"
   ]
  },
  {
   "cell_type": "code",
   "execution_count": 7,
   "id": "3c18697e",
   "metadata": {},
   "outputs": [
    {
     "name": "stdout",
     "output_type": "stream",
     "text": [
      "Removed value: Mumbai\n",
      "{'name': 'Alex', 'age': 25}\n"
     ]
    }
   ],
   "source": [
    "\n",
    "person = {\"name\": \"Alex\", \"age\": 25, \"city\": \"Mumbai\"}\n",
    "\n",
    "# Remove a key and get its value\n",
    "removed_value = person.pop(\"city\")\n",
    "print(\"Removed value:\", removed_value)\n",
    "print(person)"
   ]
  },
  {
   "cell_type": "code",
   "execution_count": 8,
   "id": "a4805b36",
   "metadata": {},
   "outputs": [
    {
     "name": "stdout",
     "output_type": "stream",
     "text": [
      "Removed last item: ('city', 'Mumbai')\n",
      "{'name': 'Alex', 'age': 25}\n"
     ]
    }
   ],
   "source": [
    "person = {\"name\": \"Alex\", \"age\": 25, \"city\": \"Mumbai\"}\n",
    "\n",
    "# Remove last inserted item\n",
    "last_item = person.popitem()\n",
    "print(\"Removed last item:\", last_item)\n",
    "print(person)"
   ]
  },
  {
   "cell_type": "code",
   "execution_count": 9,
   "id": "a988b495",
   "metadata": {},
   "outputs": [
    {
     "name": "stdout",
     "output_type": "stream",
     "text": [
      "{}\n"
     ]
    }
   ],
   "source": [
    "\n",
    "person = {\"name\": \"Alex\", \"age\": 25, \"city\": \"Mumbai\"}\n",
    "\n",
    "# Clear dictionary\n",
    "person.clear()\n",
    "print(person)"
   ]
  },
  {
   "cell_type": "code",
   "execution_count": 10,
   "id": "e78ace2c",
   "metadata": {},
   "outputs": [
    {
     "name": "stdout",
     "output_type": "stream",
     "text": [
      "Copy: {'name': 'Alex', 'age': 25, 'city': 'Mumbai'}\n"
     ]
    }
   ],
   "source": [
    "person = {\"name\": \"Alex\", \"age\": 25, \"city\": \"Mumbai\"}\n",
    "\n",
    "# Make a copy\n",
    "person_copy = person.copy()\n",
    "print(\"Copy:\", person_copy)"
   ]
  },
  {
   "cell_type": "code",
   "execution_count": 11,
   "id": "7c1f6625",
   "metadata": {},
   "outputs": [
    {
     "name": "stdout",
     "output_type": "stream",
     "text": [
      "{'name': 'Alex', 'age': 25, 'city': 'Mumbai', 'country': 'India'}\n"
     ]
    }
   ],
   "source": [
    "\n",
    "person = {\"name\": \"Alex\", \"age\": 25, \"city\": \"Mumbai\"}\n",
    "\n",
    "# Get value if exists, else set a default\n",
    "value = person.setdefault(\"country\", \"India\")\n",
    "print(person)"
   ]
  },
  {
   "cell_type": "code",
   "execution_count": 12,
   "id": "eeae3d77",
   "metadata": {},
   "outputs": [
    {
     "name": "stdout",
     "output_type": "stream",
     "text": [
      "{'name': 'Alex', 'city': 'Mumbai'}\n"
     ]
    }
   ],
   "source": [
    "person = {\"name\": \"Alex\", \"age\": 25, \"city\": \"Mumbai\"}\n",
    "\n",
    "# Delete a specific key\n",
    "del person[\"age\"]\n",
    "print(person)\n",
    "\n",
    "# Delete the entire dictionary\n",
    "del person\n",
    "#print(person)  # Uncommenting this will raise a NameError"
   ]
  },
  {
   "cell_type": "code",
   "execution_count": 13,
   "id": "d7771108",
   "metadata": {},
   "outputs": [
    {
     "name": "stdout",
     "output_type": "stream",
     "text": [
      "{1: 1, 2: 2, 3: 3, 4: 1}\n"
     ]
    }
   ],
   "source": [
    "\n",
    "numbers = [1, 2, 2, 3, 3, 3, 4]\n",
    "frequency = {}\n",
    "\n",
    "for num in numbers:\n",
    "    if num in frequency:\n",
    "        frequency[num] += 1\n",
    "    else:\n",
    "        frequency[num] = 1\n",
    "\n",
    "print(frequency)"
   ]
  },
  {
   "cell_type": "code",
   "execution_count": 14,
   "id": "88148333",
   "metadata": {},
   "outputs": [
    {
     "name": "stdout",
     "output_type": "stream",
     "text": [
      "Topper is: Emma\n"
     ]
    }
   ],
   "source": [
    "marks = {\"John\": 45, \"Emma\": 88, \"Noah\": 77}\n",
    "\n",
    "# Find key with maximum value\n",
    "topper = max(marks, key=marks.get)\n",
    "print(\"Topper is:\", topper)"
   ]
  },
  {
   "cell_type": "code",
   "execution_count": 15,
   "id": "ebe63538",
   "metadata": {},
   "outputs": [
    {
     "name": "stdout",
     "output_type": "stream",
     "text": [
      "{'a': 1, 'b': 3, 'c': 4}\n"
     ]
    }
   ],
   "source": [
    "dict1 = {\"a\": 1, \"b\": 2}\n",
    "dict2 = {\"b\": 3, \"c\": 4}\n",
    "\n",
    "# Merge using update()\n",
    "dict1.update(dict2)\n",
    "print(dict1)"
   ]
  },
  {
   "cell_type": "code",
   "execution_count": 16,
   "id": "fd1171be",
   "metadata": {},
   "outputs": [
    {
     "name": "stdout",
     "output_type": "stream",
     "text": [
      "{1: 'a', 2: 'b', 3: 'c'}\n"
     ]
    }
   ],
   "source": [
    "\n",
    "original = {'a': 1, 'b': 2, 'c': 3}\n",
    "inverted = {}\n",
    "\n",
    "for key, value in original.items():\n",
    "    inverted[value] = key\n",
    "\n",
    "print(inverted)"
   ]
  },
  {
   "cell_type": "code",
   "execution_count": 17,
   "id": "2b89c280",
   "metadata": {},
   "outputs": [
    {
     "name": "stdout",
     "output_type": "stream",
     "text": [
      "True\n",
      "False\n"
     ]
    }
   ],
   "source": [
    "dict1 = {\"a\": 1, \"b\": 2}\n",
    "dict2 = {\"b\": 2, \"a\": 1}\n",
    "\n",
    "# Compare directly\n",
    "print(dict1 == dict2)  # True\n",
    "\n",
    "# Another Example\n",
    "dict3 = {\"a\": 2, \"b\": 1}\n",
    "print(dict1 == dict3)  # False"
   ]
  }
 ],
 "metadata": {
  "kernelspec": {
   "display_name": "base",
   "language": "python",
   "name": "python3"
  },
  "language_info": {
   "codemirror_mode": {
    "name": "ipython",
    "version": 3
   },
   "file_extension": ".py",
   "mimetype": "text/x-python",
   "name": "python",
   "nbconvert_exporter": "python",
   "pygments_lexer": "ipython3",
   "version": "3.12.7"
  }
 },
 "nbformat": 4,
 "nbformat_minor": 5
}
