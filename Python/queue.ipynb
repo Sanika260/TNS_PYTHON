{
 "cells": [
  {
   "cell_type": "code",
   "execution_count": 1,
   "id": "3e53693c",
   "metadata": {},
   "outputs": [
    {
     "name": "stdout",
     "output_type": "stream",
     "text": [
      "Initial queue: []\n",
      "Queue after enqueues: [10, 20, 30]\n",
      "Front element (peek): 10\n",
      "Removed element (dequeue): 10\n",
      "Queue after dequeue: [20, 30]\n",
      "Is queue empty? False\n",
      "Queue size: 2\n"
     ]
    }
   ],
   "source": [
    "class Queue:\n",
    "    def __init__(self):\n",
    "        self.queue = []\n",
    "\n",
    "    # Enqueue operation\n",
    "    def enqueue(self, item):\n",
    "        self.queue += [item]\n",
    "\n",
    "    # Dequeue operation\n",
    "    def dequeue(self):\n",
    "        if not self.isEmpty():\n",
    "            front_element = self.queue[0]\n",
    "            self.queue = self.queue[1:]  # remove first element manually\n",
    "            return front_element\n",
    "        else:\n",
    "            return \"Queue Underflow\"\n",
    "\n",
    "    # Peek operation\n",
    "    def peek(self):\n",
    "        if not self.isEmpty():\n",
    "            return self.queue[0]\n",
    "        else:\n",
    "            return \"Queue is empty\"\n",
    "\n",
    "    # isEmpty operation\n",
    "    def isEmpty(self):\n",
    "        return len(self.queue) == 0\n",
    "\n",
    "    # size operation\n",
    "    def size(self):\n",
    "        return len(self.queue)\n",
    "\n",
    "    # display queue\n",
    "    def display(self):\n",
    "        return self.queue\n",
    "\n",
    "\n",
    "# Example usage:\n",
    "q = Queue()\n",
    "print(\"Initial queue:\", q.display())\n",
    "\n",
    "q.enqueue(10)\n",
    "q.enqueue(20)\n",
    "q.enqueue(30)\n",
    "print(\"Queue after enqueues:\", q.display())\n",
    "\n",
    "print(\"Front element (peek):\", q.peek())\n",
    "\n",
    "print(\"Removed element (dequeue):\", q.dequeue())\n",
    "print(\"Queue after dequeue:\", q.display())\n",
    "\n",
    "print(\"Is queue empty?\", q.isEmpty())\n",
    "print(\"Queue size:\", q.size())"
   ]
  },
  {
   "cell_type": "code",
   "execution_count": 2,
   "id": "ffe59155",
   "metadata": {},
   "outputs": [
    {
     "name": "stdout",
     "output_type": "stream",
     "text": [
      "Initial queue: []\n"
     ]
    }
   ],
   "source": [
    "queue = []\n",
    "print(\"Initial queue:\", queue)"
   ]
  },
  {
   "cell_type": "code",
   "execution_count": 3,
   "id": "1ddfc744",
   "metadata": {},
   "outputs": [
    {
     "name": "stdout",
     "output_type": "stream",
     "text": [
      "Queue after enqueues: [10, 20, 30]\n"
     ]
    }
   ],
   "source": [
    "\n",
    "queue = []\n",
    "queue.append(10)\n",
    "queue.append(20)\n",
    "queue.append(30)\n",
    "print(\"Queue after enqueues:\", queue)"
   ]
  },
  {
   "cell_type": "code",
   "execution_count": 4,
   "id": "a94804ad",
   "metadata": {},
   "outputs": [
    {
     "name": "stdout",
     "output_type": "stream",
     "text": [
      "Removed element: 10\n",
      "Queue after dequeue: [20, 30]\n"
     ]
    }
   ],
   "source": [
    "\n",
    "queue = [10, 20, 30]\n",
    "removed = queue.pop(0)\n",
    "print(\"Removed element:\", removed)\n",
    "print(\"Queue after dequeue:\", queue)"
   ]
  },
  {
   "cell_type": "code",
   "execution_count": 5,
   "id": "462e9483",
   "metadata": {},
   "outputs": [
    {
     "name": "stdout",
     "output_type": "stream",
     "text": [
      "Front element: 10\n"
     ]
    }
   ],
   "source": [
    "\n",
    "queue = [10, 20, 30]\n",
    "print(\"Front element:\", queue[0])"
   ]
  },
  {
   "cell_type": "code",
   "execution_count": 6,
   "id": "08c441f3",
   "metadata": {},
   "outputs": [
    {
     "name": "stdout",
     "output_type": "stream",
     "text": [
      "Is queue empty? True\n"
     ]
    }
   ],
   "source": [
    "\n",
    "queue = []\n",
    "print(\"Is queue empty?\", len(queue) == 0)"
   ]
  },
  {
   "cell_type": "code",
   "execution_count": 7,
   "id": "53d4888c",
   "metadata": {},
   "outputs": [
    {
     "name": "stdout",
     "output_type": "stream",
     "text": [
      "Size of queue: 3\n"
     ]
    }
   ],
   "source": [
    "\n",
    "queue = [10, 20, 30]\n",
    "print(\"Size of queue:\", len(queue))"
   ]
  },
  {
   "cell_type": "code",
   "execution_count": 8,
   "id": "ec377b63",
   "metadata": {},
   "outputs": [
    {
     "name": "stdout",
     "output_type": "stream",
     "text": [
      "10\n",
      "20\n"
     ]
    }
   ],
   "source": [
    "class QueueUsingStacks:\n",
    "    def __init__(self):\n",
    "        self.stack1 = []\n",
    "        self.stack2 = []\n",
    "\n",
    "    def enqueue(self, item):\n",
    "        self.stack1.append(item)\n",
    "\n",
    "    def dequeue(self):\n",
    "        if not self.stack2:\n",
    "            while self.stack1:\n",
    "                self.stack2.append(self.stack1.pop())\n",
    "        if not self.stack2:\n",
    "            return \"Queue Underflow\"\n",
    "        return self.stack2.pop()\n",
    "\n",
    "# Example\n",
    "q = QueueUsingStacks()\n",
    "q.enqueue(10)\n",
    "q.enqueue(20)\n",
    "q.enqueue(30)\n",
    "print(q.dequeue())  # 10\n",
    "print(q.dequeue())  # 20"
   ]
  },
  {
   "cell_type": "code",
   "execution_count": 9,
   "id": "b5054f0a",
   "metadata": {},
   "outputs": [
    {
     "name": "stdout",
     "output_type": "stream",
     "text": [
      "['1', '10', '11', '100', '101', '110', '111']\n"
     ]
    }
   ],
   "source": [
    "from collections import deque\n",
    "\n",
    "def generateBinaryNumbers(N):\n",
    "    result = []\n",
    "    queue = deque()\n",
    "    queue.append(\"1\")\n",
    "\n",
    "    for _ in range(N):\n",
    "        front = queue.popleft()\n",
    "        result.append(front)\n",
    "        queue.append(front + \"0\")\n",
    "        queue.append(front + \"1\")\n",
    "\n",
    "    return result\n",
    "\n",
    "# Example\n",
    "print(generateBinaryNumbers(7))  # ['1', '10', '11', '100', '101']"
   ]
  },
  {
   "cell_type": "code",
   "execution_count": 10,
   "id": "f5c42204",
   "metadata": {},
   "outputs": [
    {
     "name": "stdout",
     "output_type": "stream",
     "text": [
      "[40, 30, 20, 10]\n"
     ]
    }
   ],
   "source": [
    "\n",
    "from collections import deque\n",
    "\n",
    "def reverseQueue(queue):\n",
    "    if not queue:\n",
    "        return\n",
    "    front = queue.popleft()\n",
    "    reverseQueue(queue)\n",
    "    queue.append(front)\n",
    "\n",
    "# Example\n",
    "q = deque([10, 20, 30, 40])\n",
    "reverseQueue(q)\n",
    "print(list(q))  # [40, 30, 20, 10]"
   ]
  }
 ],
 "metadata": {
  "kernelspec": {
   "display_name": "base",
   "language": "python",
   "name": "python3"
  },
  "language_info": {
   "codemirror_mode": {
    "name": "ipython",
    "version": 3
   },
   "file_extension": ".py",
   "mimetype": "text/x-python",
   "name": "python",
   "nbconvert_exporter": "python",
   "pygments_lexer": "ipython3",
   "version": "3.12.7"
  }
 },
 "nbformat": 4,
 "nbformat_minor": 5
}
