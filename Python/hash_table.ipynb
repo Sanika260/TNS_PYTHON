{
 "cells": [
  {
   "cell_type": "code",
   "execution_count": 1,
   "id": "c4c909f7",
   "metadata": {},
   "outputs": [
    {
     "name": "stdout",
     "output_type": "stream",
     "text": [
      "Value for 'banana': 30\n",
      "\n",
      "Table before deleting 'apple':\n",
      "Bucket 0: []\n",
      "Bucket 1: []\n",
      "Bucket 2: []\n",
      "Bucket 3: []\n",
      "Bucket 4: []\n",
      "Bucket 5: []\n",
      "Bucket 6: [['orange', 20]]\n",
      "Bucket 7: [['apple', 50], ['banana', 30]]\n",
      "Bucket 8: []\n",
      "Bucket 9: []\n",
      "\n",
      "Table after deleting 'apple':\n",
      "Bucket 0: []\n",
      "Bucket 1: []\n",
      "Bucket 2: []\n",
      "Bucket 3: []\n",
      "Bucket 4: []\n",
      "Bucket 5: []\n",
      "Bucket 6: [['orange', 20]]\n",
      "Bucket 7: [['banana', 30]]\n",
      "Bucket 8: []\n",
      "Bucket 9: []\n",
      "\n",
      "Contains 'orange'? True\n"
     ]
    }
   ],
   "source": [
    "class HashTable:\n",
    "    def __init__(self, size=10):\n",
    "        self.size = size\n",
    "        self.table = [[] for _ in range(size)]\n",
    "\n",
    "    # Hash function\n",
    "    def _hash(self, key):\n",
    "        return hash(key) % self.size\n",
    "\n",
    "    # Insert key-value pair\n",
    "    def insert(self, key, value):\n",
    "        idx = self._hash(key)\n",
    "        for pair in self.table[idx]:\n",
    "            if pair[0] == key:\n",
    "                pair[1] = value\n",
    "                return\n",
    "        self.table[idx].append([key, value])\n",
    "\n",
    "    # Get value by key\n",
    "    def get(self, key):\n",
    "        idx = self._hash(key)\n",
    "        for pair in self.table[idx]:\n",
    "            if pair[0] == key:\n",
    "                return pair[1]\n",
    "        return None\n",
    "\n",
    "    # Delete key-value pair\n",
    "    def delete(self, key):\n",
    "        idx = self._hash(key)\n",
    "        for i, pair in enumerate(self.table[idx]):\n",
    "            if pair[0] == key:\n",
    "                del self.table[idx][i]\n",
    "                return True\n",
    "        return False\n",
    "\n",
    "    # Check if key exists\n",
    "    def contains(self, key):\n",
    "        idx = self._hash(key)\n",
    "        for pair in self.table[idx]:\n",
    "            if pair[0] == key:\n",
    "                return True\n",
    "        return False\n",
    "\n",
    "    # Display full table\n",
    "    def display(self):\n",
    "        for i, bucket in enumerate(self.table):\n",
    "            print(f\"Bucket {i}: {bucket}\")\n",
    "\n",
    "# Example Usage\n",
    "ht = HashTable()\n",
    "\n",
    "ht.insert(\"apple\", 50)\n",
    "ht.insert(\"banana\", 30)\n",
    "ht.insert(\"orange\", 20)\n",
    "\n",
    "print(\"Value for 'banana':\", ht.get(\"banana\"))\n",
    "\n",
    "print(\"\\nTable before deleting 'apple':\")\n",
    "ht.display()\n",
    "\n",
    "ht.delete(\"apple\")\n",
    "\n",
    "print(\"\\nTable after deleting 'apple':\")\n",
    "ht.display()\n",
    "\n",
    "print(\"\\nContains 'orange'?\", ht.contains(\"orange\"))"
   ]
  },
  {
   "cell_type": "code",
   "execution_count": 2,
   "id": "f37fe08e",
   "metadata": {},
   "outputs": [
    {
     "name": "stdout",
     "output_type": "stream",
     "text": [
      "First Non-Repeating: c\n"
     ]
    }
   ],
   "source": [
    "def first_non_repeating_char(s):\n",
    "    count = {}\n",
    "\n",
    "    for char in s:\n",
    "        count[char] = count.get(char, 0) + 1\n",
    "\n",
    "    for char in s:\n",
    "        if count[char] == 1:\n",
    "            return char\n",
    "    return None\n",
    "\n",
    "# Example\n",
    "print(\"First Non-Repeating:\", first_non_repeating_char(\"aabbcdde\"))"
   ]
  },
  {
   "cell_type": "code",
   "execution_count": 3,
   "id": "2494a9d9",
   "metadata": {},
   "outputs": [
    {
     "name": "stdout",
     "output_type": "stream",
     "text": [
      "Arrays Equal: True\n"
     ]
    }
   ],
   "source": [
    "def are_arrays_equal(arr1, arr2):\n",
    "    if len(arr1) != len(arr2):\n",
    "        return False\n",
    "\n",
    "    count1, count2 = {}, {}\n",
    "\n",
    "    for num in arr1:\n",
    "        count1[num] = count1.get(num, 0) + 1\n",
    "\n",
    "    for num in arr2:\n",
    "        count2[num] = count2.get(num, 0) + 1\n",
    "\n",
    "    return count1 == count2\n",
    "\n",
    "# Example\n",
    "print(\"Arrays Equal:\", are_arrays_equal([1,2,3,4,4], [4,3,2,4,1]))"
   ]
  },
  {
   "cell_type": "code",
   "execution_count": 4,
   "id": "35e25d64",
   "metadata": {},
   "outputs": [
    {
     "name": "stdout",
     "output_type": "stream",
     "text": [
      "Pairs with sum 5: 3\n"
     ]
    }
   ],
   "source": [
    "\n",
    "def count_pairs_with_sum(arr, target):\n",
    "    count = {}\n",
    "    pairs = 0\n",
    "\n",
    "    for num in arr:\n",
    "        complement = target - num\n",
    "        if complement in count:\n",
    "            pairs += count[complement]\n",
    "        count[num] = count.get(num, 0) + 1\n",
    "\n",
    "    return pairs\n",
    "\n",
    "# Example\n",
    "print(\"Pairs with sum 5:\", count_pairs_with_sum([1, 5, 7, -1, 5], 6))"
   ]
  }
 ],
 "metadata": {
  "kernelspec": {
   "display_name": "base",
   "language": "python",
   "name": "python3"
  },
  "language_info": {
   "codemirror_mode": {
    "name": "ipython",
    "version": 3
   },
   "file_extension": ".py",
   "mimetype": "text/x-python",
   "name": "python",
   "nbconvert_exporter": "python",
   "pygments_lexer": "ipython3",
   "version": "3.12.7"
  }
 },
 "nbformat": 4,
 "nbformat_minor": 5
}
